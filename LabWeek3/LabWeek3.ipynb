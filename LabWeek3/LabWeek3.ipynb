{
  "cells": [
    {
      "cell_type": "markdown",
      "metadata": {
        "id": "view-in-github",
        "colab_type": "text"
      },
      "source": [
        "<a href=\"https://colab.research.google.com/github/v-aap/COMP3132/blob/main/LabWeek3/LabWeek3.ipynb\" target=\"_parent\"><img src=\"https://colab.research.google.com/assets/colab-badge.svg\" alt=\"Open In Colab\"/></a>"
      ]
    },
    {
      "cell_type": "markdown",
      "metadata": {
        "id": "nDnqzTg8PEvr"
      },
      "source": [
        "# Lab Week 3: The mathematical building blocks of neural networks"
      ]
    },
    {
      "cell_type": "markdown",
      "metadata": {
        "id": "YEge0pcbOiiV"
      },
      "source": [
        "This lab is based on the materials of the second chapter the course text book [Deep Learning with Python, Second Edition](https://www.manning.com/books/deep-learning-with-python-second-edition?a_aid=keras&a_bid=76564dff) (See D2l -> Course Information -> Text Book.)"
      ]
    },
    {
      "cell_type": "markdown",
      "metadata": {
        "id": "v-sXL1loQE5M"
      },
      "source": [
        "# Imports"
      ]
    },
    {
      "cell_type": "code",
      "execution_count": 1,
      "metadata": {
        "id": "_s8XixgsQFQG"
      },
      "outputs": [],
      "source": [
        "import numpy as np\n",
        "import matplotlib.pyplot as plt\n",
        "import seaborn as sns"
      ]
    },
    {
      "cell_type": "markdown",
      "metadata": {
        "id": "ZgkrwcVVOiiY"
      },
      "source": [
        "# Loading the MNIST dataset in Keras"
      ]
    },
    {
      "cell_type": "code",
      "execution_count": 2,
      "metadata": {
        "colab": {
          "base_uri": "https://localhost:8080/"
        },
        "id": "ff8ToQGiOiiZ",
        "outputId": "b90666c4-ede9-4c74-a9fd-47fa62e8e2c9"
      },
      "outputs": [
        {
          "output_type": "stream",
          "name": "stdout",
          "text": [
            "Downloading data from https://storage.googleapis.com/tensorflow/tf-keras-datasets/mnist.npz\n",
            "\u001b[1m11490434/11490434\u001b[0m \u001b[32m━━━━━━━━━━━━━━━━━━━━\u001b[0m\u001b[37m\u001b[0m \u001b[1m0s\u001b[0m 0us/step\n"
          ]
        }
      ],
      "source": [
        "from tensorflow.keras.datasets import mnist\n",
        "(train_images_orig, train_labels), (test_images_orig, test_labels) = mnist.load_data()"
      ]
    },
    {
      "cell_type": "code",
      "execution_count": 3,
      "metadata": {
        "colab": {
          "base_uri": "https://localhost:8080/"
        },
        "id": "c3HfBsoAOiiZ",
        "outputId": "b4f6bada-b770-4978-ce15-38cc4fdfc322"
      },
      "outputs": [
        {
          "output_type": "execute_result",
          "data": {
            "text/plain": [
              "(60000, 28, 28)"
            ]
          },
          "metadata": {},
          "execution_count": 3
        }
      ],
      "source": [
        "train_images_orig.shape # the shape is (b, w, h)"
      ]
    },
    {
      "cell_type": "code",
      "execution_count": 4,
      "metadata": {
        "colab": {
          "base_uri": "https://localhost:8080/"
        },
        "id": "zL8NazN2tw1i",
        "outputId": "eef53d93-9a2e-4fcc-f33b-7592cb5c3033"
      },
      "outputs": [
        {
          "output_type": "execute_result",
          "data": {
            "text/plain": [
              "3"
            ]
          },
          "metadata": {},
          "execution_count": 4
        }
      ],
      "source": [
        "train_images_orig.ndim"
      ]
    },
    {
      "cell_type": "markdown",
      "metadata": {
        "id": "eb7ucsx5YZXK"
      },
      "source": [
        "## The shape of image data\n",
        "\n",
        "**Note:** For black-and-white images, the number of channels equals 1, so it is not explicitly mentioned in the data.\n",
        "\n",
        "- color images shape: (samples_n, channel_n, hight, width)\n",
        "- gray images shape: (sample_n, hight, width)\n",
        "\n",
        "\n",
        "![](https://raw.githubusercontent.com/PyDataGBC/PyML2025/refs/heads/main/LabWeek3/assets/image_data.png)"
      ]
    },
    {
      "cell_type": "markdown",
      "metadata": {
        "id": "1wwMR95md_S1"
      },
      "source": [
        "## Exploring the dataset"
      ]
    },
    {
      "cell_type": "code",
      "execution_count": 8,
      "metadata": {
        "colab": {
          "base_uri": "https://localhost:8080/",
          "height": 1000
        },
        "id": "XsnT7peEPdll",
        "outputId": "8ad91787-d191-4ed7-8362-e3ca02edc7b6"
      },
      "outputs": [
        {
          "output_type": "stream",
          "name": "stdout",
          "text": [
            "sample image shape:  (28, 28)\n",
            "sample image data type:  <class 'numpy.ndarray'>\n",
            "====================================================================================================\n",
            "printing the numerical value of a sample image\n",
            "[[  0   0   0   0   0   0   0   0   0   0   0   0   0   0   0   0   0   0\n",
            "    0   0   0   0   0   0   0   0   0   0]\n",
            " [  0   0   0   0   0   0   0   0   0   0   0   0   0   0   0   0   0   0\n",
            "    0   0   0   0   0   0   0   0   0   0]\n",
            " [  0   0   0   0   0   0   0   0   0   0   0   0   0   0   0   0   0   0\n",
            "    0   0   0   0   0   0   0   0   0   0]\n",
            " [  0   0   0   0   0   0   0   0   0   0   0   0   0   0   0   0   0   0\n",
            "    0   0   0   0   0   0   0   0   0   0]\n",
            " [  0   0   0   0   0   0   0   0   0   0   0   0   0  29  28  86  85  86\n",
            "  197 255 139  57   0   0   0   0   0   0]\n",
            " [  0   0   0   0   0   0   0   0   0   0   0   0 114 197 196 253 251 253\n",
            "  251 253 251 225  56   0   0   0   0   0]\n",
            " [  0   0   0   0   0   0   0   0   0   0  57 141 253 254 253 254 253 254\n",
            "  253 254 253 254 253   0   0   0   0   0]\n",
            " [  0   0   0   0   0   0   0   0   0   0 168 253 251 253 251 253 251 253\n",
            "  251 253 251 253 251   0   0   0   0   0]\n",
            " [  0   0   0   0   0   0   0   0   0   0  57 255 253 254 253 254 253 254\n",
            "  253 254 253 254 253 169   0   0   0   0]\n",
            " [  0   0   0   0   0   0   0   0   0  57 224 253 251 253 251 253 251 196\n",
            "   83 253 251 253 251 225  56   0   0   0]\n",
            " [  0   0   0   0   0   0   0   0   0 255 253 255 253 254 253 254 196   0\n",
            "    0   0 169 254 253 254 253   0   0   0]\n",
            " [  0   0   0   0   0   0   0   0 114 253 251 253 251 253 251 196  28   0\n",
            "    0   0  56 253 251 253 251   0   0   0]\n",
            " [  0   0   0   0   0   0   0 254 253 254 253 254 253 226 168   0   0   0\n",
            "    0   0   0 254 253 254 253   0   0   0]\n",
            " [  0   0   0   0   0   0   0 253 251 253 251 253 251  56   0   0   0   0\n",
            "    0  57 168 253 251 253 138   0   0   0]\n",
            " [  0   0   0   0   0  29 197 254 253 254 253 254 253   0   0   0   0   0\n",
            "    0 254 253 254 253 254  84   0   0   0]\n",
            " [  0   0   0   0   0  85 251 253 251 253 251 196  83   0   0   0   0   0\n",
            "    0 253 251 253 251 196  28   0   0   0]\n",
            " [  0   0   0   0   0 255 253 254 253 254 253   0   0   0   0   0   0   0\n",
            "  169 254 253 254 253   0   0   0   0   0]\n",
            " [  0   0   0   0   0 253 251 253 251 253 138   0   0   0   0   0   0 169\n",
            "  224 253 251 253 251   0   0   0   0   0]\n",
            " [  0   0   0   0   0 255 253 254 253 254 139  85  28   0   0 141 253 254\n",
            "  253 254 253 169  56   0   0   0   0   0]\n",
            " [  0   0   0   0   0 253 251 253 251 253 251 253 196 169 168 253 251 253\n",
            "  251 253 251   0   0   0   0   0   0   0]\n",
            " [  0   0   0   0   0 254 253 254 253 254 253 254 253 254 253 254 253 254\n",
            "  253 226  56   0   0   0   0   0   0   0]\n",
            " [  0   0   0   0   0  84 196 253 251 253 251 253 251 253 251 253 251 253\n",
            "  251  56   0   0   0   0   0   0   0   0]\n",
            " [  0   0   0   0   0   0   0 198 253 254 253 254 253 254 253 254 253 169\n",
            "  168   0   0   0   0   0   0   0   0   0]\n",
            " [  0   0   0   0   0   0   0  28  83  84  83  84  83  84  83  84  83   0\n",
            "    0   0   0   0   0   0   0   0   0   0]\n",
            " [  0   0   0   0   0   0   0   0   0   0   0   0   0   0   0   0   0   0\n",
            "    0   0   0   0   0   0   0   0   0   0]\n",
            " [  0   0   0   0   0   0   0   0   0   0   0   0   0   0   0   0   0   0\n",
            "    0   0   0   0   0   0   0   0   0   0]\n",
            " [  0   0   0   0   0   0   0   0   0   0   0   0   0   0   0   0   0   0\n",
            "    0   0   0   0   0   0   0   0   0   0]\n",
            " [  0   0   0   0   0   0   0   0   0   0   0   0   0   0   0   0   0   0\n",
            "    0   0   0   0   0   0   0   0   0   0]]\n",
            "====================================================================================================\n",
            "0  0  0  0  0  0  0  0  0  0  0  0  0  0  0  0  0  0  0  0  0  0  0  0  0  0  0  0  \n",
            "0  0  0  0  0  0  0  0  0  0  0  0  0  0  0  0  0  0  0  0  0  0  0  0  0  0  0  0  \n",
            "0  0  0  0  0  0  0  0  0  0  0  0  0  0  0  0  0  0  0  0  0  0  0  0  0  0  0  0  \n",
            "0  0  0  0  0  0  0  0  0  0  0  0  0  0  0  0  0  0  0  0  0  0  0  0  0  0  0  0  \n",
            "0  0  0  0  0  0  0  0  0  0  0  0  0  29 28 86 85 86 19725513957 0  0  0  0  0  0  \n",
            "0  0  0  0  0  0  0  0  0  0  0  0  11419719625325125325125325122556 0  0  0  0  0  \n",
            "0  0  0  0  0  0  0  0  0  0  57 1412532542532542532542532542532542530  0  0  0  0  \n",
            "0  0  0  0  0  0  0  0  0  0  1682532512532512532512532512532512532510  0  0  0  0  \n",
            "0  0  0  0  0  0  0  0  0  0  57 2552532542532542532542532542532542531690  0  0  0  \n",
            "0  0  0  0  0  0  0  0  0  57 22425325125325125325119683 25325125325122556 0  0  0  \n",
            "0  0  0  0  0  0  0  0  0  2552532552532542532541960  0  0  1692542532542530  0  0  \n",
            "0  0  0  0  0  0  0  0  11425325125325125325119628 0  0  0  56 2532512532510  0  0  \n",
            "0  0  0  0  0  0  0  2542532542532542532261680  0  0  0  0  0  2542532542530  0  0  \n",
            "0  0  0  0  0  0  0  25325125325125325156 0  0  0  0  0  57 1682532512531380  0  0  \n",
            "0  0  0  0  0  29 1972542532542532542530  0  0  0  0  0  25425325425325484 0  0  0  \n",
            "0  0  0  0  0  85 25125325125325119683 0  0  0  0  0  0  25325125325119628 0  0  0  \n",
            "0  0  0  0  0  2552532542532542530  0  0  0  0  0  0  1692542532542530  0  0  0  0  \n",
            "0  0  0  0  0  2532512532512531380  0  0  0  0  0  1692242532512532510  0  0  0  0  \n",
            "0  0  0  0  0  25525325425325413985 28 0  0  14125325425325425316956 0  0  0  0  0  \n",
            "0  0  0  0  0  2532512532512532512531961691682532512532512532510  0  0  0  0  0  0  \n",
            "0  0  0  0  0  25425325425325425325425325425325425325425322656 0  0  0  0  0  0  0  \n",
            "0  0  0  0  0  84 19625325125325125325125325125325125325156 0  0  0  0  0  0  0  0  \n",
            "0  0  0  0  0  0  0  1982532542532542532542532542531691680  0  0  0  0  0  0  0  0  \n",
            "0  0  0  0  0  0  0  28 83 84 83 84 83 84 83 84 83 0  0  0  0  0  0  0  0  0  0  0  \n",
            "0  0  0  0  0  0  0  0  0  0  0  0  0  0  0  0  0  0  0  0  0  0  0  0  0  0  0  0  \n",
            "0  0  0  0  0  0  0  0  0  0  0  0  0  0  0  0  0  0  0  0  0  0  0  0  0  0  0  0  \n",
            "0  0  0  0  0  0  0  0  0  0  0  0  0  0  0  0  0  0  0  0  0  0  0  0  0  0  0  0  \n",
            "0  0  0  0  0  0  0  0  0  0  0  0  0  0  0  0  0  0  0  0  0  0  0  0  0  0  0  0  \n",
            "====================================================================================================\n"
          ]
        },
        {
          "output_type": "display_data",
          "data": {
            "text/plain": [
              "<Figure size 640x480 with 1 Axes>"
            ],
            "image/png": "[encoded data removed]"
          },
          "metadata": {}
        }
      ],
      "source": [
        "# Note: run this cell multiple times\n",
        "index = np.random.randint(0, 60000)\n",
        "sample_image = train_images_orig[index]\n",
        "\n",
        "print(\"sample image shape: \", sample_image.shape)\n",
        "print(\"sample image data type: \", type(sample_image))\n",
        "\n",
        "print(\"=\" * 100)\n",
        "print(\"printing the numerical value of a sample image\")\n",
        "print(sample_image)\n",
        "\n",
        "# aligning the pixel values in the output\n",
        "print(\"=\" * 100)\n",
        "for row in sample_image:\n",
        "  print(\"\".join([str(elem).ljust(3) for elem in row]))\n",
        "\n",
        "print(\"=\" * 100)\n",
        "plt.imshow(sample_image, cmap=\"gray\")\n",
        "plt.show()\n"
      ]
    },
    {
      "cell_type": "code",
      "execution_count": 9,
      "metadata": {
        "colab": {
          "base_uri": "https://localhost:8080/"
        },
        "id": "85wgjeiNOiia",
        "outputId": "71ff3d2d-1813-4a78-b846-3c3ab3cfb325"
      },
      "outputs": [
        {
          "output_type": "execute_result",
          "data": {
            "text/plain": [
              "60000"
            ]
          },
          "metadata": {},
          "execution_count": 9
        }
      ],
      "source": [
        "len(train_labels)"
      ]
    },
    {
      "cell_type": "code",
      "execution_count": 10,
      "metadata": {
        "colab": {
          "base_uri": "https://localhost:8080/"
        },
        "id": "3IHiFiByOiia",
        "outputId": "b0843577-4a87-4ff2-b012-b0d5f27ed1b7"
      },
      "outputs": [
        {
          "output_type": "execute_result",
          "data": {
            "text/plain": [
              "array([5, 0, 4, ..., 5, 6, 8], dtype=uint8)"
            ]
          },
          "metadata": {},
          "execution_count": 10
        }
      ],
      "source": [
        "train_labels"
      ]
    },
    {
      "cell_type": "code",
      "execution_count": 11,
      "metadata": {
        "colab": {
          "base_uri": "https://localhost:8080/"
        },
        "id": "DAsd0NdKOiia",
        "outputId": "30c3be54-7897-4e5d-cc19-f22307e4f670"
      },
      "outputs": [
        {
          "output_type": "execute_result",
          "data": {
            "text/plain": [
              "(10000, 28, 28)"
            ]
          },
          "metadata": {},
          "execution_count": 11
        }
      ],
      "source": [
        "test_images_orig.shape"
      ]
    },
    {
      "cell_type": "code",
      "execution_count": 12,
      "metadata": {
        "colab": {
          "base_uri": "https://localhost:8080/"
        },
        "id": "QO4S5qBZOiia",
        "outputId": "b21c657f-b41c-4b48-a88e-0822b6d0bba2"
      },
      "outputs": [
        {
          "output_type": "execute_result",
          "data": {
            "text/plain": [
              "10000"
            ]
          },
          "metadata": {},
          "execution_count": 12
        }
      ],
      "source": [
        "len(test_labels)"
      ]
    },
    {
      "cell_type": "code",
      "execution_count": 13,
      "metadata": {
        "colab": {
          "base_uri": "https://localhost:8080/"
        },
        "id": "wJXBxQrWOiib",
        "outputId": "bd6da090-d2cd-4973-fbb6-47a452fc6da5"
      },
      "outputs": [
        {
          "output_type": "execute_result",
          "data": {
            "text/plain": [
              "array([7, 2, 1, ..., 4, 5, 6], dtype=uint8)"
            ]
          },
          "metadata": {},
          "execution_count": 13
        }
      ],
      "source": [
        "test_labels"
      ]
    },
    {
      "cell_type": "markdown",
      "metadata": {
        "id": "9WvoQhXMA1db"
      },
      "source": [
        "### **Exercise 1:** Display the fourth image in the `test set` with its label."
      ]
    },
    {
      "cell_type": "code",
      "execution_count": 14,
      "metadata": {
        "id": "6o0gVaAFA01Y",
        "outputId": "75ebaa72-9be0-43cf-80c0-d28cb5701386",
        "colab": {
          "base_uri": "https://localhost:8080/",
          "height": 428
        }
      },
      "outputs": [
        {
          "output_type": "display_data",
          "data": {
            "text/plain": [
              "<Figure size 640x480 with 1 Axes>"
            ],
            "image/png": "[encoded data removed]"
          },
          "metadata": {}
        }
      ],
      "source": [
        "# Get the fourth image (index 3) and its label from the test set\n",
        "fourth_image = test_images_orig[3]\n",
        "fourth_label = test_labels[3]\n",
        "\n",
        "# Display the image using matplotlib\n",
        "plt.imshow(fourth_image, cmap='gray')\n",
        "plt.title(f\"Label: {fourth_label}\")\n",
        "plt.axis('off')  # Hide axes for cleaner visualization\n",
        "plt.show()"
      ]
    },
    {
      "cell_type": "markdown",
      "metadata": {
        "id": "yw3gwShVfieT"
      },
      "source": [
        "# A first look at a neural network"
      ]
    },
    {
      "cell_type": "markdown",
      "metadata": {
        "id": "1lRD_ACCOiib"
      },
      "source": [
        "## **Step 1:** The network architecture"
      ]
    },
    {
      "cell_type": "code",
      "execution_count": 15,
      "metadata": {
        "id": "msh9I3NHOiib"
      },
      "outputs": [],
      "source": [
        "from tensorflow import keras\n",
        "from tensorflow.keras import layers\n",
        "model = keras.Sequential([\n",
        "    layers.Dense(512, activation=\"relu\"),\n",
        "    layers.Dense(10, activation=\"softmax\")\n",
        "])"
      ]
    },
    {
      "cell_type": "markdown",
      "metadata": {
        "id": "U-Cul184liV5"
      },
      "source": [
        "<img src=\"https://raw.githubusercontent.com/PyDataGBC/PyML2025/refs/heads/main/LabWeek3/assets/architecture.png\" width=\"1000\" height=\"400\">"
      ]
    },
    {
      "cell_type": "markdown",
      "metadata": {
        "id": "gHueYzDVOiib"
      },
      "source": [
        "### **Input layer** - Preparing the image data\n",
        "\n",
        "**Note: The nodes in the `Input layer` are not neurons. They are pixel values.**"
      ]
    },
    {
      "cell_type": "code",
      "execution_count": 16,
      "metadata": {
        "id": "xT2ryOvuOiib"
      },
      "outputs": [],
      "source": [
        "train_images = train_images_orig.reshape((60000, 28 * 28))\n",
        "train_images = train_images.astype(\"float32\") / 255\n",
        "\n",
        "test_images= test_images_orig.reshape((10000, 28 * 28))\n",
        "test_images = test_images.astype(\"float32\") / 255"
      ]
    },
    {
      "cell_type": "markdown",
      "metadata": {
        "id": "5eDL43SvmPQd"
      },
      "source": [
        "### **Exercise 2:** What is the shape of data after preprocessing"
      ]
    },
    {
      "cell_type": "code",
      "execution_count": 17,
      "metadata": {
        "id": "2ixny62KmeBM",
        "outputId": "37e1cdb4-8192-498f-88e7-51cafc9de39f",
        "colab": {
          "base_uri": "https://localhost:8080/"
        }
      },
      "outputs": [
        {
          "output_type": "stream",
          "name": "stdout",
          "text": [
            "Training data shape: (60000, 784)\n",
            "Test data shape: (10000, 784)\n"
          ]
        }
      ],
      "source": [
        "print(\"Training data shape:\", train_images.shape)\n",
        "print(\"Test data shape:\", test_images.shape)"
      ]
    },
    {
      "cell_type": "markdown",
      "metadata": {
        "id": "KOOBszTfOiil"
      },
      "source": [
        "### Tensor reshaping"
      ]
    },
    {
      "cell_type": "code",
      "execution_count": 19,
      "metadata": {
        "colab": {
          "base_uri": "https://localhost:8080/"
        },
        "id": "FxXrOEwTOiil",
        "outputId": "4221f4ea-e184-49a6-8129-4602d25a858e"
      },
      "outputs": [
        {
          "output_type": "execute_result",
          "data": {
            "text/plain": [
              "(3, 2)"
            ]
          },
          "metadata": {},
          "execution_count": 19
        }
      ],
      "source": [
        "a = np.array([[0., 1.],\n",
        "             [2., 3.],\n",
        "             [4., 5.]])\n",
        "a.shape"
      ]
    },
    {
      "cell_type": "markdown",
      "metadata": {
        "id": "AHR8KC7hBOcE"
      },
      "source": [
        "### **Exercise 3:** reshape the `a` matrix to 6 x 1 matrix."
      ]
    },
    {
      "cell_type": "code",
      "execution_count": 20,
      "metadata": {
        "id": "SGJxUrlmBXf6"
      },
      "outputs": [],
      "source": [
        "reshaped_a = a.reshape(6, 1)"
      ]
    },
    {
      "cell_type": "markdown",
      "metadata": {
        "id": "3eQ4EGfsm4Z6"
      },
      "source": [
        "### **Hidden layer** with `relu` activation function\n",
        "\n",
        "Each neuron in the hidden layer, as illustrated in the figure below, comprises two main components: the summation function and the activation function.\n",
        "\n",
        "In our architecture, we have 512 neurons in the hidden layer."
      ]
    },
    {
      "cell_type": "markdown",
      "metadata": {
        "id": "dOWdc9SdsTiV"
      },
      "source": [
        "<img src=https://raw.githubusercontent.com/PyDataGBC/PyML2025/refs/heads/main/LabWeek3/assets/relu.webp with=\"500\" height=\"300\">"
      ]
    },
    {
      "cell_type": "markdown",
      "metadata": {
        "id": "FynF-azXmJZQ"
      },
      "source": [
        "**The preferred activation function for hidden layers is `relu`. The mathematical function of ReLU is as follows:**\n",
        "\n",
        "$$\n",
        "relu(x) = max(0, x)\n",
        "$$\n",
        "\n",
        "> **Note: ReLU is considered as one of the biggest breakthroughs in deep learning because ReLU makes it possible to train a very deep neural network. It has solved the `vanishing gradient` challenge in `deep` networks with many hidden layers.**\n"
      ]
    },
    {
      "cell_type": "markdown",
      "metadata": {
        "id": "qIQfdpVQwKaS"
      },
      "source": [
        "### **Exercise 4** Write a function that takes a number/array `x` and returns `relu(x)`. Use the `np.maximum()` method in your function. Then, plot this function for x in the range of -5 to 5."
      ]
    },
    {
      "cell_type": "code",
      "execution_count": 21,
      "metadata": {
        "id": "tAnajbFMzKEt",
        "outputId": "742ad5fe-58b0-4a92-e306-bc073b4fd064",
        "colab": {
          "base_uri": "https://localhost:8080/",
          "height": 410
        }
      },
      "outputs": [
        {
          "output_type": "display_data",
          "data": {
            "text/plain": [
              "<Figure size 800x400 with 1 Axes>"
            ],
            "image/png": "[encoded data removed]"
          },
          "metadata": {}
        }
      ],
      "source": [
        "import numpy as np\n",
        "import matplotlib.pyplot as plt\n",
        "\n",
        "def relu(x):\n",
        "    return np.maximum(0, x)\n",
        "\n",
        "# Generate x values from -5 to 5\n",
        "x = np.linspace(-5, 5, 100)\n",
        "y = relu(x)\n",
        "\n",
        "# Plot the ReLU function\n",
        "plt.figure(figsize=(8, 4))\n",
        "plt.plot(x, y, label='ReLU', color='blue', linewidth=2)\n",
        "plt.title('ReLU Activation Function')\n",
        "plt.xlabel('x')\n",
        "plt.ylabel('relu(x)')\n",
        "plt.grid(True, linestyle='--', alpha=0.7)\n",
        "plt.axhline(0, color='black', linewidth=0.5)\n",
        "plt.axvline(0, color='black', linewidth=0.5)\n",
        "plt.xlim(-5, 5)\n",
        "plt.ylim(-0.5, 5)\n",
        "plt.legend()\n",
        "plt.show()"
      ]
    },
    {
      "cell_type": "code",
      "execution_count": null,
      "metadata": {
        "colab": {
          "base_uri": "https://localhost:8080/",
          "height": 430
        },
        "id": "OnXGVCwdwKAj",
        "outputId": "92c136dd-deb7-4ea3-d38e-eb23f0739e6e"
      },
      "outputs": [
        {
          "data": {
            "image/png": "[encoded data removed]",
            "text/plain": [
              "<Figure size 640x480 with 1 Axes>"
            ]
          },
          "metadata": {},
          "output_type": "display_data"
        }
      ],
      "source": [
        "# my solution output"
      ]
    },
    {
      "cell_type": "markdown",
      "metadata": {
        "id": "oPRuDpSP8YaF"
      },
      "source": [
        "### **Ecercise 5:** Suppose that I have 5 neurons in my hidden layer. After the summation stage, the result of this layer is `[-10, 5, 0, -2, 6]`. What is the result after passing this through the ReLU activation function?"
      ]
    },
    {
      "cell_type": "markdown",
      "metadata": {
        "id": "0KgjOnhy8YaF"
      },
      "source": [
        "![](https://raw.githubusercontent.com/PyDataGBC/PyML2025/refs/heads/main/LabWeek3/assets/pass-relu.png)"
      ]
    },
    {
      "cell_type": "markdown",
      "metadata": {
        "id": "ZLhFpron8YaG"
      },
      "source": [
        "your answer here:"
      ]
    },
    {
      "cell_type": "code",
      "source": [
        "Input:  [-10,   5,   0,  -2,   6]\n",
        "Output: [  0,   5,   0,   0,   6]"
      ],
      "metadata": {
        "id": "KlewofKR-dps"
      },
      "execution_count": null,
      "outputs": []
    },
    {
      "cell_type": "markdown",
      "source": [
        "Step-by-Step Explanation:\n",
        "\n",
        "ReLU Rule:\n",
        "\n",
        "If x > 0, return x\n",
        "\n",
        "If x ≤ 0, return 0\n",
        "\n",
        "Apply to Each Element:\n",
        "\n",
        "-10 → 0 (negative)\n",
        "\n",
        "5 → 5 (positive)\n",
        "\n",
        "0 → 0 (non-negative threshold)\n",
        "\n",
        "-2 → 0 (negative)\n",
        "\n",
        "6 → 6 (positive)\n",
        "\n",
        "Final Output: [0, 5, 0, 0, 6]"
      ],
      "metadata": {
        "id": "nt3-ohhD-h4M"
      }
    },
    {
      "cell_type": "markdown",
      "metadata": {
        "id": "bTTW3sVa0xZz"
      },
      "source": [
        "### **Output layer** - `Sigmoid` and `Softmax` activation function"
      ]
    },
    {
      "cell_type": "markdown",
      "metadata": {
        "id": "LBpOEjCNzRiR"
      },
      "source": [
        "Each neuron in the last layer of the neural network should output a number between 0 and 1 because each neuron represents the probability of the input belonging to a specific class.\n",
        "\n",
        "**Important Note:** The values of the neurons in the last layer before applying the activation function are called `logits` or `scores`.\n",
        "\n",
        "One way to achieve this is by using the sigmoid activation function.\n",
        "\n",
        "The sigmoid function takes an input\n",
        "`x` and outputs a number between 0 and 1.\n",
        "\n",
        "$$\n",
        "\\sigma(x) = \\frac{1}{1 + e^{-x}}\n",
        "$$"
      ]
    },
    {
      "cell_type": "code",
      "execution_count": 22,
      "metadata": {
        "colab": {
          "base_uri": "https://localhost:8080/",
          "height": 430
        },
        "id": "fl7icdWsc86A",
        "outputId": "c67fe014-f7bf-4e3d-a6ca-482e3bd8ee18"
      },
      "outputs": [
        {
          "output_type": "display_data",
          "data": {
            "text/plain": [
              "<Figure size 640x480 with 1 Axes>"
            ],
            "image/png": "[encoded data removed]"
          },
          "metadata": {}
        }
      ],
      "source": [
        "def sigmoid(x):\n",
        "    return 1 / (1 + np.exp(-x))\n",
        "\n",
        "x = np.linspace(-10, 10, 100)\n",
        "y = sigmoid(x)\n",
        "\n",
        "plt.plot(x, y)\n",
        "plt.grid()\n",
        "plt.show()"
      ]
    },
    {
      "cell_type": "markdown",
      "metadata": {
        "id": "zJePFKxXdKBm"
      },
      "source": [
        "### **Exercise 6:** Using the sigmoid function defined in the previous cell, suppose the last layer of a neural network has 4 neurons with the following values: [3.2, 1.3, 0.2, 0.8].\n",
        "  - Apply the sigmoid function to these values to map them to numbers between 0 and 1.\n",
        "  - Then, generate a bar plot of the scaled values.\n",
        "\n",
        "![](https://raw.githubusercontent.com/PyDataGBC/PyML2025/refs/heads/main/LabWeek3/assets/pass-sigmoid.png)"
      ]
    },
    {
      "cell_type": "code",
      "execution_count": 24,
      "metadata": {
        "id": "yu6voXKUefdh",
        "outputId": "ff905cf4-c107-4dbe-d3e2-8f0780d2df13",
        "colab": {
          "base_uri": "https://localhost:8080/",
          "height": 438
        }
      },
      "outputs": [
        {
          "output_type": "display_data",
          "data": {
            "text/plain": [
              "<Figure size 800x400 with 1 Axes>"
            ],
            "image/png": "[encoded data removed]"
          },
          "metadata": {}
        }
      ],
      "source": [
        "# Apply sigmoid activation to logits\n",
        "logits = np.array([3.2, 1.3, 0.2, 0.8])\n",
        "logits_scaled = sigmoid(logits)  # Using the previously defined sigmoid function\n",
        "\n",
        "# Create bar plot\n",
        "plt.figure(figsize=(8, 4))\n",
        "bars = plt.bar(range(4), logits_scaled, color='skyblue', edgecolor='black')\n",
        "\n",
        "# Customize plot\n",
        "plt.title(\"Output Neuron Probabilities After Sigmoid Activation\", pad=20)\n",
        "plt.xlabel(\"Neuron Index\", labelpad=10)\n",
        "plt.ylabel(\"Probability\", labelpad=10)\n",
        "plt.xticks(np.arange(4))\n",
        "plt.ylim(0, 1.1)  # Leave space for value labels\n",
        "\n",
        "# Add value labels on top of bars\n",
        "for bar in bars:\n",
        "    height = bar.get_height()\n",
        "    plt.text(bar.get_x() + bar.get_width()/2., height,\n",
        "             f'{height:.2f}',\n",
        "             ha='center', va='bottom')\n",
        "\n",
        "plt.grid(axis='y', linestyle='--', alpha=0.7)\n",
        "plt.show()"
      ]
    },
    {
      "cell_type": "code",
      "execution_count": null,
      "metadata": {
        "colab": {
          "base_uri": "https://localhost:8080/",
          "height": 450
        },
        "id": "1ZWmslI7emNy",
        "outputId": "45279747-b373-4b2d-ab7a-eadfd676c754"
      },
      "outputs": [
        {
          "name": "stdout",
          "output_type": "stream",
          "text": [
            "[0.96083428 0.78583498 0.549834   0.68997448]\n"
          ]
        },
        {
          "data": {
            "image/png": "[encoded data removed]",
            "text/plain": [
              "<Figure size 640x480 with 1 Axes>"
            ]
          },
          "metadata": {},
          "output_type": "display_data"
        }
      ],
      "source": [
        "#my solution output"
      ]
    },
    {
      "cell_type": "markdown",
      "metadata": {
        "id": "RaVOBNzLhz3R"
      },
      "source": [
        "This plot shows the probability distribution over labels. However, there is an issue here: with the sigmoid function, each output is independent and bounded between 0 and 1, but their sum is not constrained to equal 1. To address this, we use the softmax function, which normalizes the outputs so that they sum to 1, ensuring a valid probability distribution over the labels.\n",
        "\n",
        "\n",
        "$$\n",
        "\\text{softmax}(x_i) = \\frac{e^{x_i}}{\\sum_{j=1}^N e^{x_j}}\n",
        "$$"
      ]
    },
    {
      "cell_type": "code",
      "execution_count": 25,
      "metadata": {
        "id": "9HKVFpJJj9NC"
      },
      "outputs": [],
      "source": [
        "def softmax(x):\n",
        "  \"\"\"\n",
        "  input x is a vector representing the output of the last layer of a neural network\n",
        "  \"\"\"\n",
        "  return np.exp(x)/sum(np.exp(x))"
      ]
    },
    {
      "cell_type": "markdown",
      "metadata": {
        "id": "IgDgRtDelTWr"
      },
      "source": [
        "### **Exercise 7:** Pass the logits defined in Exercise 6 from the softmax function and plot the probability distribution over the labels."
      ]
    },
    {
      "cell_type": "markdown",
      "metadata": {
        "id": "ADfAkob58YaT"
      },
      "source": [
        "![](https://raw.githubusercontent.com/PyDataGBC/PyML2025/refs/heads/main/LabWeek3/assets/pass-softmax.png)"
      ]
    },
    {
      "cell_type": "code",
      "execution_count": 26,
      "metadata": {
        "id": "p4ph_f-KlqIp",
        "outputId": "cf833640-2ee2-48fc-90ab-6ea3731d9a5d",
        "colab": {
          "base_uri": "https://localhost:8080/",
          "height": 590
        }
      },
      "outputs": [
        {
          "output_type": "display_data",
          "data": {
            "text/plain": [
              "<Figure size 1000x600 with 1 Axes>"
            ],
            "image/png": "[encoded data removed]"
          },
          "metadata": {}
        }
      ],
      "source": [
        "import numpy as np\n",
        "import matplotlib.pyplot as plt\n",
        "\n",
        "# Define activation functions\n",
        "def sigmoid(x):\n",
        "    return 1 / (1 + np.exp(-x))\n",
        "\n",
        "def softmax(x):\n",
        "    return np.exp(x) / np.sum(np.exp(x))\n",
        "\n",
        "# Given logits\n",
        "logits = np.array([3.2, 1.3, 0.2, 0.8])\n",
        "\n",
        "# Apply both activation functions\n",
        "sigmoid_output = sigmoid(logits)\n",
        "softmax_output = softmax(logits)\n",
        "\n",
        "# Create comparison plot\n",
        "plt.figure(figsize=(10, 6))\n",
        "\n",
        "# Set positions for bars\n",
        "x = np.arange(len(logits))\n",
        "width = 0.35\n",
        "\n",
        "# Plot both outputs\n",
        "rects1 = plt.bar(x - width/2, sigmoid_output, width, label='Sigmoid',\n",
        "                color='royalblue', edgecolor='black')\n",
        "rects2 = plt.bar(x + width/2, softmax_output, width, label='Softmax',\n",
        "                color='lightcoral', edgecolor='black')\n",
        "\n",
        "# Add labels and formatting\n",
        "plt.title('Sigmoid vs Softmax Activation Comparison', fontsize=14, pad=20)\n",
        "plt.xlabel('Neuron Index', fontsize=12)\n",
        "plt.ylabel('Output Value', fontsize=12)\n",
        "plt.xticks(x, labels=[0, 1, 2, 3])\n",
        "plt.ylim(0, 1)\n",
        "plt.grid(axis='y', linestyle='--', alpha=0.7)\n",
        "plt.legend()\n",
        "\n",
        "# Add value labels\n",
        "def add_labels(rects):\n",
        "    for rect in rects:\n",
        "        height = rect.get_height()\n",
        "        plt.text(rect.get_x() + rect.get_width()/2., height,\n",
        "                f'{height:.2f}',\n",
        "                ha='center', va='bottom')\n",
        "\n",
        "add_labels(rects1)\n",
        "add_labels(rects2)\n",
        "\n",
        "# Add important note about sum\n",
        "plt.text(0.5, -0.25,\n",
        "         f'Sum of Sigmoid outputs: {np.sum(sigmoid_output):.2f}\\n'\n",
        "         f'Sum of Softmax outputs: {np.sum(softmax_output):.2f}',\n",
        "         ha='center', va='center', transform=plt.gca().transAxes,\n",
        "         bbox=dict(facecolor='white', alpha=0.9))\n",
        "\n",
        "plt.tight_layout()\n",
        "plt.show()"
      ]
    },
    {
      "cell_type": "code",
      "execution_count": null,
      "metadata": {
        "colab": {
          "base_uri": "https://localhost:8080/",
          "height": 466
        },
        "id": "R3BIeRX3jfpM",
        "outputId": "8869c396-1868-442d-8e32-bf59cb3422ec"
      },
      "outputs": [
        {
          "name": "stdout",
          "output_type": "stream",
          "text": [
            "[0.77514955 0.11593805 0.03859242 0.07031998]\n",
            "sum of all probs:  1.0000000000000002\n"
          ]
        },
        {
          "data": {
            "image/png": "[encoded data removed]",
            "text/plain": [
              "<Figure size 640x480 with 1 Axes>"
            ]
          },
          "metadata": {},
          "output_type": "display_data"
        }
      ],
      "source": [
        "#my solution output"
      ]
    },
    {
      "cell_type": "markdown",
      "metadata": {
        "id": "T5Gnhpe4nZQo"
      },
      "source": [
        "### Exercise 8: Given the `probs` you calculated in the previous Exercise, find the predicted label using `np.argmax()` method."
      ]
    },
    {
      "cell_type": "code",
      "execution_count": 28,
      "metadata": {
        "id": "Gd2Cv0Ran9ue",
        "outputId": "a783e09b-d8da-41a0-c505-3b71e70d1f9b",
        "colab": {
          "base_uri": "https://localhost:8080/"
        }
      },
      "outputs": [
        {
          "output_type": "stream",
          "name": "stdout",
          "text": [
            "Predicted class: 0\n"
          ]
        }
      ],
      "source": [
        "probs = np.array([0.77514955, 0.11593805, 0.03859242, 0.07031998])\n",
        "predicted_class = np.argmax(probs)\n",
        "\n",
        "print(\"Predicted class:\", predicted_class)"
      ]
    },
    {
      "cell_type": "markdown",
      "metadata": {
        "id": "-ZqsLloUmoXP"
      },
      "source": [
        "> **To summarize so far, the input to the neural network is, for example, an image, and the output is the probability distribution over the labels.**\n",
        "\n",
        "> **You can try [Google Teachable Machine](https://teachablemachine.withgoogle.com/train/image) to explore this concept further.**\n",
        "\n",
        "<img src=https://raw.githubusercontent.com/PyDataGBC/PyML2025/refs/heads/main/LabWeek3/assets/overal_logit-softmax.png height=\"650\" width=\"650\" >\n",
        "\n",
        "\n"
      ]
    },
    {
      "cell_type": "markdown",
      "metadata": {
        "id": "Lql9wyl25aZ_"
      },
      "source": [
        "In the next steps, we will train the neural network defined in step 1. By training the network, we optimize the weights between the neurons."
      ]
    },
    {
      "cell_type": "markdown",
      "metadata": {
        "id": "U0CrTPHfOiib"
      },
      "source": [
        "## **Step 2:** The compilation step"
      ]
    },
    {
      "cell_type": "code",
      "execution_count": null,
      "metadata": {
        "id": "KFJ3F19DOiib"
      },
      "outputs": [],
      "source": [
        "model.compile(optimizer=\"rmsprop\",\n",
        "              loss=\"sparse_categorical_crossentropy\",\n",
        "              metrics=[\"accuracy\"])"
      ]
    },
    {
      "cell_type": "markdown",
      "metadata": {
        "id": "L81NKZviOiic"
      },
      "source": [
        "## **Step 3:** \"Fitting\" the model"
      ]
    },
    {
      "cell_type": "code",
      "execution_count": null,
      "metadata": {
        "colab": {
          "base_uri": "https://localhost:8080/"
        },
        "id": "wskV0N2jOiic",
        "outputId": "38e8b0ab-78ef-40b4-fd67-6b15dadaa109"
      },
      "outputs": [
        {
          "name": "stdout",
          "output_type": "stream",
          "text": [
            "Epoch 1/5\n",
            "\u001b[1m469/469\u001b[0m \u001b[32m━━━━━━━━━━━━━━━━━━━━\u001b[0m\u001b[37m\u001b[0m \u001b[1m9s\u001b[0m 16ms/step - accuracy: 0.8736 - loss: 0.4464\n",
            "Epoch 2/5\n",
            "\u001b[1m469/469\u001b[0m \u001b[32m━━━━━━━━━━━━━━━━━━━━\u001b[0m\u001b[37m\u001b[0m \u001b[1m8s\u001b[0m 12ms/step - accuracy: 0.9649 - loss: 0.1159\n",
            "Epoch 3/5\n",
            "\u001b[1m469/469\u001b[0m \u001b[32m━━━━━━━━━━━━━━━━━━━━\u001b[0m\u001b[37m\u001b[0m \u001b[1m9s\u001b[0m 10ms/step - accuracy: 0.9793 - loss: 0.0678\n",
            "Epoch 4/5\n",
            "\u001b[1m469/469\u001b[0m \u001b[32m━━━━━━━━━━━━━━━━━━━━\u001b[0m\u001b[37m\u001b[0m \u001b[1m5s\u001b[0m 11ms/step - accuracy: 0.9846 - loss: 0.0515\n",
            "Epoch 5/5\n",
            "\u001b[1m469/469\u001b[0m \u001b[32m━━━━━━━━━━━━━━━━━━━━\u001b[0m\u001b[37m\u001b[0m \u001b[1m6s\u001b[0m 12ms/step - accuracy: 0.9888 - loss: 0.0380\n"
          ]
        },
        {
          "data": {
            "text/plain": [
              "<keras.src.callbacks.history.History at 0x7d7d68e47e10>"
            ]
          },
          "execution_count": 30,
          "metadata": {},
          "output_type": "execute_result"
        }
      ],
      "source": [
        "model.fit(train_images, train_labels, epochs=5, batch_size=128)"
      ]
    },
    {
      "cell_type": "markdown",
      "metadata": {
        "id": "MGRD8nxIOiic"
      },
      "source": [
        "## **Step 4:** Using the model to make predictions"
      ]
    },
    {
      "cell_type": "code",
      "execution_count": null,
      "metadata": {
        "colab": {
          "base_uri": "https://localhost:8080/"
        },
        "id": "fSCAAaomOiic",
        "outputId": "cdf95de0-16ce-421a-90bb-7aa410406ed2"
      },
      "outputs": [
        {
          "name": "stdout",
          "output_type": "stream",
          "text": [
            "\u001b[1m1/1\u001b[0m \u001b[32m━━━━━━━━━━━━━━━━━━━━\u001b[0m\u001b[37m\u001b[0m \u001b[1m0s\u001b[0m 53ms/step\n"
          ]
        },
        {
          "data": {
            "text/plain": [
              "array([[5.3813039e-08, 8.8339903e-08, 1.4601770e-05, 6.6420631e-03,\n",
              "        1.6605675e-11, 4.3978287e-07, 1.0941298e-11, 9.9332482e-01,\n",
              "        2.3918119e-06, 1.5561984e-05],\n",
              "       [6.4626519e-08, 4.8077818e-06, 9.9999309e-01, 1.1165381e-06,\n",
              "        1.8537705e-13, 4.7513544e-07, 8.0789547e-08, 4.5650110e-13,\n",
              "        2.0799199e-07, 9.8211294e-13],\n",
              "       [8.9335833e-07, 9.9923730e-01, 1.3652080e-04, 1.5359572e-05,\n",
              "        1.0737173e-04, 7.1584327e-06, 1.8019173e-05, 3.4408402e-04,\n",
              "        1.3106359e-04, 2.1893347e-06]], dtype=float32)"
            ]
          },
          "execution_count": 31,
          "metadata": {},
          "output_type": "execute_result"
        }
      ],
      "source": [
        "test_digits = test_images[:3] #predictiong the label of test_image[0] , test_image[1], test_image[2]\n",
        "predictions = model.predict(test_digits)\n",
        "predictions"
      ]
    },
    {
      "cell_type": "markdown",
      "metadata": {
        "id": "ihUfDp-cwMX1"
      },
      "source": [
        "### **Exercise 9:** Interpret the values in the `prediction`array.  "
      ]
    },
    {
      "cell_type": "markdown",
      "metadata": {
        "id": "VLQt6BaRwopn"
      },
      "source": [
        "your answer here:"
      ]
    },
    {
      "cell_type": "markdown",
      "metadata": {
        "id": "8wcYjgatpscn"
      },
      "source": [
        "### See the result for the prediction of the first image"
      ]
    },
    {
      "cell_type": "code",
      "execution_count": null,
      "metadata": {
        "colab": {
          "base_uri": "https://localhost:8080/"
        },
        "id": "PRoNum0vOiic",
        "outputId": "87444550-6a69-4b9e-fdbb-b8b88ec5d544"
      },
      "outputs": [
        {
          "name": "stdout",
          "output_type": "stream",
          "text": [
            "[5.3813039e-08 8.8339903e-08 1.4601770e-05 6.6420631e-03 1.6605675e-11\n",
            " 4.3978287e-07 1.0941298e-11 9.9332482e-01 2.3918119e-06 1.5561984e-05]\n",
            "Predicted label:  7\n"
          ]
        }
      ],
      "source": [
        "print(predictions[0])\n",
        "predicted_label = np.argmax(predictions[0])\n",
        "print(\"Predicted label: \", predicted_label)"
      ]
    },
    {
      "cell_type": "code",
      "execution_count": null,
      "metadata": {
        "colab": {
          "base_uri": "https://localhost:8080/"
        },
        "id": "_uMNt8RBOiic",
        "outputId": "69778905-2498-4fd7-f879-0d911f1f19b9"
      },
      "outputs": [
        {
          "name": "stdout",
          "output_type": "stream",
          "text": [
            "highest prob:  0.9933248\n"
          ]
        }
      ],
      "source": [
        "print(\"highest prob: \", predictions[0][7])"
      ]
    },
    {
      "cell_type": "code",
      "execution_count": null,
      "metadata": {
        "colab": {
          "base_uri": "https://localhost:8080/"
        },
        "id": "ZIohjja0Oiic",
        "outputId": "e0788417-edc2-44a5-f4f1-3b3e967e3505"
      },
      "outputs": [
        {
          "name": "stdout",
          "output_type": "stream",
          "text": [
            "True label:  7\n"
          ]
        }
      ],
      "source": [
        "true_label = test_labels[0]\n",
        "print(\"True label: \", true_label)"
      ]
    },
    {
      "cell_type": "code",
      "execution_count": null,
      "metadata": {
        "colab": {
          "base_uri": "https://localhost:8080/",
          "height": 430
        },
        "id": "v0BQGeFGyB0S",
        "outputId": "99617f0d-6da8-44d6-971f-ddbf0615b2a0"
      },
      "outputs": [
        {
          "data": {
            "image/png": "[encoded data removed]",
            "text/plain": [
              "<Figure size 640x480 with 1 Axes>"
            ]
          },
          "metadata": {},
          "output_type": "display_data"
        }
      ],
      "source": [
        "# plt.bar(np.arange(10), predictions[0])\n",
        "sns.barplot(x=np.arange(10), y=predictions[0], hue=np.arange(10), palette='Set1', legend=False)\n",
        "plt.xticks(np.arange(10))\n",
        "plt.show()"
      ]
    },
    {
      "cell_type": "markdown",
      "metadata": {
        "id": "6Xg5zxooyXsT"
      },
      "source": [
        "> **So, the output distribution of the model is very close to our ideal distribution, which is [0, 0, 0, 0, 0, 0, 0, 1, 0, 0].**\n",
        "\n"
      ]
    },
    {
      "cell_type": "markdown",
      "metadata": {
        "id": "JZOuYKm7ujhX"
      },
      "source": [
        "### **Exercise 10:** Predict the label of the fourth element of the test set.\n",
        "\n",
        "**Important Note: Neural networks are designed to predict labels for a batch of data. For example, in the previous section, we predicted labels for a batch of four images, where the input shape was (4, 784). Similarly, when working with a single image, it must be fed into the network in the batch format with a shape of (1, 784).**"
      ]
    },
    {
      "cell_type": "code",
      "execution_count": 29,
      "metadata": {
        "id": "I6IMdmOyvW2a",
        "outputId": "729c69e3-9b90-4ffd-edb4-a3cecdbebba4",
        "colab": {
          "base_uri": "https://localhost:8080/",
          "height": 605
        }
      },
      "outputs": [
        {
          "output_type": "stream",
          "name": "stdout",
          "text": [
            "\u001b[1m1/1\u001b[0m \u001b[32m━━━━━━━━━━━━━━━━━━━━\u001b[0m\u001b[37m\u001b[0m \u001b[1m0s\u001b[0m 365ms/step\n",
            "Predicted probabilities: [0.03724464 0.09192684 0.09301268 0.08997403 0.04531046 0.15194583\n",
            " 0.12179204 0.14149772 0.08994424 0.13735154]\n",
            "Predicted label: 5\n",
            "True label: 0\n"
          ]
        },
        {
          "output_type": "stream",
          "name": "stderr",
          "text": [
            "<ipython-input-29-6839da9e4f5f>:20: FutureWarning: \n",
            "\n",
            "Passing `palette` without assigning `hue` is deprecated and will be removed in v0.14.0. Assign the `x` variable to `hue` and set `legend=False` for the same effect.\n",
            "\n",
            "  sns.barplot(x=np.arange(10), y=prediction[0], palette=\"viridis\")\n"
          ]
        },
        {
          "output_type": "display_data",
          "data": {
            "text/plain": [
              "<Figure size 800x400 with 1 Axes>"
            ],
            "image/png": "[encoded data removed]"
          },
          "metadata": {}
        }
      ],
      "source": [
        "# Extract the fourth image and reshape it for batch prediction\n",
        "fourth_image = test_images[3:4]  # Shape becomes (1, 784) for batch compatibility\n",
        "\n",
        "# Make prediction\n",
        "prediction = model.predict(fourth_image)\n",
        "\n",
        "# Get predicted label\n",
        "predicted_label = np.argmax(prediction)\n",
        "\n",
        "# Get true label\n",
        "true_label = test_labels[3]\n",
        "\n",
        "# Print results\n",
        "print(\"Predicted probabilities:\", prediction[0])\n",
        "print(\"Predicted label:\", predicted_label)\n",
        "print(\"True label:\", true_label)\n",
        "\n",
        "# Visualize probabilities\n",
        "plt.figure(figsize=(8, 4))\n",
        "sns.barplot(x=np.arange(10), y=prediction[0], palette=\"viridis\")\n",
        "plt.title(f\"Prediction Probabilities for Test Image 4\\nTrue Label: {true_label} | Predicted: {predicted_label}\")\n",
        "plt.xlabel(\"Digit Class\")\n",
        "plt.ylabel(\"Probability\")\n",
        "plt.xticks(np.arange(10))\n",
        "plt.ylim(0, 1)\n",
        "plt.show()"
      ]
    },
    {
      "cell_type": "markdown",
      "metadata": {
        "id": "PP970c2wOiic"
      },
      "source": [
        "## **Step 5:** Evaluating the model on new data"
      ]
    },
    {
      "cell_type": "code",
      "execution_count": null,
      "metadata": {
        "colab": {
          "base_uri": "https://localhost:8080/"
        },
        "id": "sqtlOxVsOiic",
        "outputId": "3e50fcfe-c24c-4782-f326-ce90a6206f7d"
      },
      "outputs": [
        {
          "name": "stdout",
          "output_type": "stream",
          "text": [
            "\u001b[1m313/313\u001b[0m \u001b[32m━━━━━━━━━━━━━━━━━━━━\u001b[0m\u001b[37m\u001b[0m \u001b[1m1s\u001b[0m 2ms/step - accuracy: 0.9776 - loss: 0.0736\n",
            "test_acc: 0.9807999730110168\n"
          ]
        }
      ],
      "source": [
        "test_loss, test_acc = model.evaluate(test_images, test_labels)\n",
        "print(f\"test_acc: {test_acc}\")"
      ]
    },
    {
      "cell_type": "markdown",
      "metadata": {
        "id": "wV2CcxlmxFUC"
      },
      "source": [
        "**Note:** We will discuss `optimizer`, `loss`, `epoch`, and `batch` in more depth in the coming weeks."
      ]
    }
  ],
  "metadata": {
    "colab": {
      "provenance": [],
      "include_colab_link": true
    },
    "kernelspec": {
      "display_name": "Python 3",
      "language": "python",
      "name": "python3"
    },
    "language_info": {
      "codemirror_mode": {
        "name": "ipython",
        "version": 3
      },
      "file_extension": ".py",
      "mimetype": "text/x-python",
      "name": "python",
      "nbconvert_exporter": "python",
      "pygments_lexer": "ipython3",
      "version": "3.7.0"
    }
  },
  "nbformat": 4,
  "nbformat_minor": 0
}